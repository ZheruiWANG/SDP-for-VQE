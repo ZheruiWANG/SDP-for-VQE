{
 "cells": [
  {
   "attachments": {},
   "cell_type": "markdown",
   "metadata": {
    "notebookRunGroups": {
     "groupValue": ""
    }
   },
   "source": [
    "**Find the ground state energy of a certain Hamiltonian with SDP:**\n",
    "1. We can somehow prepare the groud state $\\rho_g$ of a Hamiltonian $H$\n",
    "2. We do quantum tomography on this prepared state $\\rho_g$ and get an approximation $\\hat{\\rho}$\n",
    "3. By using SDP, we get a physically valid quantum state $\\hat{\\rho}_{SDP}$ which minimizes $\\text{Tr}(\\rho H)$ for $\\rho \\in \\tilde{\\rho}$\n",
    "4. The ground state energy we find is then $\\text{Tr}(H\\hat{\\rho}_{SDP})$"
   ]
  },
  {
   "cell_type": "code",
   "execution_count": 5,
   "metadata": {},
   "outputs": [],
   "source": [
    "import argparse\n",
    "import time\n",
    "import random\n",
    "import itertools\n",
    "import numpy as np\n",
    "import cvxpy as cp\n",
    "import math\n",
    "import scipy\n",
    "import matplotlib.pyplot as plt\n",
    "import seaborn as sns\n",
    "from scipy.stats import norm\n",
    "from qutip import *\n",
    "from qiskit import *\n",
    "from qiskit import QuantumCircuit\n",
    "from qiskit.quantum_info import Statevector, DensityMatrix, Operator, Pauli, partial_trace, state_fidelity, random_density_matrix\n",
    "from qiskit.visualization import plot_histogram, plot_state_city, plot_bloch_multivector, plot_state_paulivec, plot_state_hinton, plot_state_qsphere\n",
    "from qiskit.tools.monitor import job_monitor\n",
    "import os\n",
    "\n",
    "from SDPforVQE import generate_PauliStrList, Hamiltonian_global, Hamiltonian_matrix, ground_state\n",
    "from SDPforVQE import N_meas_list_func, generate_meas_dataset, random_distribute"
   ]
  },
  {
   "cell_type": "code",
   "execution_count": 6,
   "metadata": {},
   "outputs": [],
   "source": [
    "model_type = 'closed'\n",
    "#model_type = 'open'\n",
    "\n",
    "N = 3 # Number of qubits of the entire system\n",
    "M = 2 # Number of qubits of subsystems\n",
    "G = 3 # Number of qubits of partial global system (C1)\n",
    "if model_type == 'open':\n",
    "    K = N-M+1 # Number of subsystems\n",
    "if model_type == 'closed':\n",
    "    K = N\n",
    "P = 4**M-1 # Number of Pauli basis for each subsystem\n",
    "\n",
    "PauliStrList = generate_PauliStrList(N)[1:]\n",
    "PauliStrList_part = generate_PauliStrList(M)[1:]\n",
    "PauliStrList_Gbody = generate_PauliStrList(G)[1:]\n",
    "\n",
    "H_local_list = ['XX','YY'] # Pauli string representation of the local Hamiltonian of subsystems\n",
    "H_global_list = Hamiltonian_global(H_local_list, N, M, K, model_type) # Pauli string representation of the Hamiltonian of the whole system\n",
    "H_local = np.array( Hamiltonian_matrix(H_local_list, model_type) ) # Matrix representation of the local Hamiltonian of subsystems\n",
    "H_global = np.array( Hamiltonian_matrix(H_global_list, model_type) ) # Matrix representation of the Hamiltonian of the whole system\n",
    "\n",
    "ground_state_energy, ground_state_dm = ground_state(H_global) \n",
    "q_state = DensityMatrix(ground_state_dm) \n",
    "\n",
    "# Create a folder if it doesn't exist\n",
    "meas_dataset_filename = \"meas_dataset\"\n",
    "os.makedirs(meas_dataset_filename, exist_ok=True)\n",
    "folder_name = os.path.join('meas_dataset/'+model_type, f\"N={N}\")\n",
    "os.makedirs(folder_name, exist_ok=True)"
   ]
  },
  {
   "cell_type": "code",
   "execution_count": 7,
   "metadata": {},
   "outputs": [],
   "source": [
    "num_data_point = 15 # number of N_meas that we select to run\n",
    "N_meas_list = N_meas_list_func(100, 100000, num_data_point) # A list of number of measurement performed in all basis\n",
    "num_of_shot = 100 # Number of repeatation of the experiment\n",
    "\n",
    "# Generate the dataset for N_meas=N_meas_max number of measurements\n",
    "N_meas_max = N_meas_list[-1]\n",
    "data_full = []\n",
    "for i in range(num_of_shot):   \n",
    "    data_full.append(generate_meas_dataset(q_state, N_meas_max, N))\n",
    "path = f'meas_dataset/{model_type}/N={N}/N{N}_Meas{N_meas_max}.npy'\n",
    "np.save(path, data_full)\n",
    "\n",
    "for N_meas in N_meas_list[:-1]:\n",
    "    data = []\n",
    "    num_meas_list = random_distribute(N_meas, N)\n",
    "    for i in range(num_of_shot):   \n",
    "        selected_dict = {}\n",
    "        data_dict = data_full[i] # Get the data for the i-th shot of experiment\n",
    "        for j, key in enumerate(data_dict):\n",
    "            selected_strings = random.sample(data_dict[key], int(num_meas_list[j])) # Randomly select strings from the list for this key\n",
    "            selected_dict[key] = selected_strings # Add the selected strings to the new dictionary\n",
    "        data.append(selected_dict)\n",
    "    path = f'meas_dataset/{model_type}/N={N}/N{N}_Meas{N_meas}.npy'\n",
    "    np.save(path, data)"
   ]
  }
 ],
 "metadata": {
  "kernelspec": {
   "display_name": "Python 3.7.7 ('QuantumC')",
   "language": "python",
   "name": "python3"
  },
  "language_info": {
   "codemirror_mode": {
    "name": "ipython",
    "version": 3
   },
   "file_extension": ".py",
   "mimetype": "text/x-python",
   "name": "python",
   "nbconvert_exporter": "python",
   "pygments_lexer": "ipython3",
   "version": "3.8.13"
  },
  "orig_nbformat": 4,
  "vscode": {
   "interpreter": {
    "hash": "eb1c09c88080a82141bde80abfc5c4dcde1e462f373af1bd572dc93ad8fc5299"
   }
  }
 },
 "nbformat": 4,
 "nbformat_minor": 2
}
