{
 "cells": [
  {
   "attachments": {},
   "cell_type": "markdown",
   "metadata": {
    "notebookRunGroups": {
     "groupValue": ""
    }
   },
   "source": [
    "**Find the ground state energy of a certain Hamiltonian with SDP:**\n",
    "1. We can somehow prepare the groud state $\\rho_g$ of a Hamiltonian $H$\n",
    "2. We do quantum tomography on this prepared state $\\rho_g$ and get an approximation $\\hat{\\rho}$\n",
    "3. By using SDP, we get a physically valid quantum state $\\hat{\\rho}_{SDP}$ which minimizes $\\text{Tr}(\\rho H)$ for $\\rho \\in \\tilde{\\rho}$\n",
    "4. The ground state energy we find is then $\\text{Tr}(H\\hat{\\rho}_{SDP})$"
   ]
  },
  {
   "cell_type": "code",
   "execution_count": 1,
   "metadata": {},
   "outputs": [],
   "source": [
    "import argparse\n",
    "import time\n",
    "import random\n",
    "import itertools\n",
    "import numpy as np\n",
    "import cvxpy as cp\n",
    "import math\n",
    "import scipy\n",
    "import matplotlib.pyplot as plt\n",
    "import seaborn as sns\n",
    "from scipy.stats import norm\n",
    "from qutip import *\n",
    "from qiskit import *\n",
    "from qiskit import QuantumCircuit\n",
    "from qiskit.quantum_info import Statevector, DensityMatrix, Operator, Pauli, partial_trace, state_fidelity, random_density_matrix\n",
    "from qiskit.visualization import plot_histogram, plot_state_city, plot_bloch_multivector, plot_state_paulivec, plot_state_hinton, plot_state_qsphere\n",
    "from qiskit.tools.monitor import job_monitor\n",
    "import os\n",
    "\n",
    "from SDPforVQE import generate_PauliStrList, Hamiltonian_global, Hamiltonian_matrix, ground_state, lower_bound_with_SDP, N_meas_list_func\n",
    "from SDPforVQE import get_SDP_dataset_min, get_SDP_dataset_max, process_SDP_dataset"
   ]
  },
  {
   "cell_type": "code",
   "execution_count": 5,
   "metadata": {},
   "outputs": [
    {
     "name": "stdout",
     "output_type": "stream",
     "text": [
      "Case N_meas = 100 finished\n",
      "Case N_meas = 223 finished\n",
      "Case N_meas = 498 finished\n",
      "Case N_meas = 100 finished\n",
      "Case N_meas = 223 finished\n",
      "Case N_meas = 498 finished\n",
      "Case N_meas = 100 finished\n",
      "Case N_meas = 223 finished\n",
      "Case N_meas = 498 finished\n",
      "Case N_meas = 100 finished\n",
      "Case N_meas = 223 finished\n",
      "Case N_meas = 498 finished\n"
     ]
    }
   ],
   "source": [
    "model_type = 'closed'\n",
    "#model_type = 'open'\n",
    "\n",
    "N = 3 # Number of qubits of the entire system\n",
    "M = 2 # Number of qubits of subsystems\n",
    "G = 3 # Number of qubits of partial global system (C1)\n",
    "if model_type == 'open':\n",
    "    K = N-M+1 # Number of subsystems\n",
    "if model_type == 'closed':\n",
    "    K = N\n",
    "P = 4**M-1 # Number of Pauli basis for each subsystem\n",
    "\n",
    "PauliStrList = generate_PauliStrList(N)[1:]\n",
    "PauliStrList_part = generate_PauliStrList(M)[1:]\n",
    "PauliStrList_Gbody = generate_PauliStrList(G)[1:]\n",
    "\n",
    "H_local_list = ['XX','YY'] # Pauli string representation of the local Hamiltonian of subsystems\n",
    "H_global_list = Hamiltonian_global(H_local_list, N, M, K, model_type) # Pauli string representation of the Hamiltonian of the whole system\n",
    "H_local_matrix = np.array( Hamiltonian_matrix(H_local_list, model_type) ) # Matrix representation of the local Hamiltonian of subsystems\n",
    "H_global_matrix = np.array( Hamiltonian_matrix(H_global_list, model_type) ) # Matrix representation of the Hamiltonian of the whole system\n",
    "\n",
    "ground_state_energy, ground_state_dm = ground_state(H_global_matrix) \n",
    "q_state = DensityMatrix(ground_state_dm) \n",
    "lower_bound = lower_bound_with_SDP(H_local_matrix, N, M, G, K, P, PauliStrList_part, PauliStrList_Gbody, model_type)\n",
    "\n",
    "num_data_point = 3 # number of N_meas that we select to run\n",
    "N_meas_list = N_meas_list_func(100, 500, num_data_point) # A list of number of measurement performed in all basis\n",
    "num_of_shot = 2 # Number of repeatation of the experiment\n",
    "\n",
    "higher_bound = 0.1 # Starting trial value for the bi-search method\n",
    "threshold = 0.001 # Accuracy of the minimum relaxation value \n",
    "data_min = get_SDP_dataset_min(num_of_shot=num_of_shot,\n",
    "                       N_meas_list=N_meas_list,\n",
    "                       higher_bound=higher_bound,\n",
    "                       threshold=threshold,\n",
    "                       N=N,\n",
    "                       M=M,\n",
    "                       G=G,\n",
    "                       K=K,\n",
    "                       P=P,\n",
    "                       model_type=model_type,\n",
    "                       PauliStrList_part=PauliStrList_part,\n",
    "                       PauliStrList_Gbody=PauliStrList_Gbody,\n",
    "                       H_local_matrix=H_local_matrix, \n",
    "                       H_global_list=H_global_list)\n",
    "data_max = get_SDP_dataset_max(num_of_shot=num_of_shot,\n",
    "                       N_meas_list=N_meas_list,\n",
    "                       higher_bound=higher_bound,\n",
    "                       threshold=threshold,\n",
    "                       N=N,\n",
    "                       M=M,\n",
    "                       G=G,\n",
    "                       K=K,\n",
    "                       P=P, \n",
    "                       model_type=model_type,\n",
    "                       PauliStrList_part=PauliStrList_part,\n",
    "                       PauliStrList_Gbody=PauliStrList_Gbody,\n",
    "                       H_local_matrix=H_local_matrix, \n",
    "                       H_global_list=H_global_list)\n",
    "\n",
    "E_mean_min, E_std_min = process_SDP_dataset(data_min, num_of_shot, num_data_point)\n",
    "E_mean_max, E_std_max = process_SDP_dataset(data_max, num_of_shot, num_data_point)\n",
    "\n",
    "name = model_type + '_N' + str(N) + '_threshold' + str(threshold)\n",
    "filename_min = '%s_min.npy' % name\n",
    "filename_max = '%s_max.npy' % name\n",
    "\n",
    "np.save(filename_min, data_min)\n",
    "np.save(filename_max, data_max)"
   ]
  },
  {
   "cell_type": "code",
   "execution_count": null,
   "metadata": {},
   "outputs": [],
   "source": [
    "from SDPforVQE import SDP_solver_max, SDP_solver_min, SDP_variables_C0, SDP_variables_C1\n",
    "from SDPforVQE import biSection_search_min, biSection_search_max\n",
    "\n",
    "model_type = 'closed'\n",
    "#model_type = 'open'\n",
    "\n",
    "N = 3 # Number of qubits of the entire system\n",
    "M = 2 # Number of qubits of subsystems\n",
    "G = 3 # Number of qubits of partial global system (C1)\n",
    "if model_type == 'open':\n",
    "    K = N-M+1 # Number of subsystems\n",
    "if model_type == 'closed':\n",
    "    K = N\n",
    "P = 4**M-1 # Number of Pauli basis for each subsystem\n",
    "\n",
    "PauliStrList = generate_PauliStrList(N)[1:]\n",
    "PauliStrList_part = generate_PauliStrList(M)[1:]\n",
    "PauliStrList_Gbody = generate_PauliStrList(G)[1:]\n",
    "\n",
    "H_local_list = ['XX','YY'] # Pauli string representation of the local Hamiltonian of subsystems\n",
    "H_global_list = Hamiltonian_global(H_local_list, N, M, K, model_type) # Pauli string representation of the Hamiltonian of the whole system\n",
    "H_local_matrix = np.array( Hamiltonian_matrix(H_local_list, model_type) ) # Matrix representation of the local Hamiltonian of subsystems\n",
    "H_global_matrix = np.array( Hamiltonian_matrix(H_global_list, model_type) ) # Matrix representation of the Hamiltonian of the whole system\n",
    "\n",
    "ground_state_energy, ground_state_dm = ground_state(H_global_matrix) \n",
    "q_state = DensityMatrix(ground_state_dm) \n",
    "lower_bound = lower_bound_with_SDP(H_local_matrix, N, M, G, K, P, PauliStrList_part, PauliStrList_Gbody)\n",
    "\n",
    "num_data_point = 4 # number of N_meas that we select to run\n",
    "N_meas_list = N_meas_list_func(100, 1000, num_data_point) # A list of number of measurement performed in all basis\n",
    "num_of_shot = 10 # Number of repeatation of the experiment\n",
    "\n",
    "higher_bound = 1 # Starting trial value for the bi-search method\n",
    "threshold = 0.001 # Accuracy of the minimum relaxation value \n",
    "\n",
    "\n",
    "\n",
    "\n",
    "ep = cp.Variable((K, P))\n",
    "if model_type=='open':\n",
    "    K_3body = N-G+1 # Number of 3-body subsystems\n",
    "if model_type=='closed':\n",
    "    K_3body = K # Number of 3-body subsystems\n",
    "ep_C1 = cp.Variable((K_3body, 4**G-1))\n",
    "\n",
    "\n",
    "\n",
    "dm_tilde, dm_hat = SDP_variables_C0(ep, measurement_dataset, N, M, K, P, PauliStrList_part, model_type)\n",
    "dm_tilde_C1 = SDP_variables_C1(ep_C1, measurement_dataset, N, G, K, PauliStrList_Gbody, model_type)\n",
    "\n",
    "\n",
    "SDP_solver_min(higher_bound, ep, ep_C1, dm_tilde, dm_tilde_C1, H_local_matrix, measurement_dataset, N, M, G, K, P, model_type)\n"
   ]
  },
  {
   "cell_type": "code",
   "execution_count": 3,
   "metadata": {},
   "outputs": [
    {
     "data": {
      "text/plain": [
       "-4.0"
      ]
     },
     "execution_count": 3,
     "metadata": {},
     "output_type": "execute_result"
    }
   ],
   "source": [
    "from SDPforVQE import SDP_solver_max, SDP_solver_min, SDP_variables_C0, SDP_variables_C1\n",
    "from SDPforVQE import biSection_search_min, biSection_search_max\n",
    "\n",
    "model_type = 'closed'\n",
    "#model_type = 'open'\n",
    "\n",
    "N = 3 # Number of qubits of the entire system\n",
    "M = 2 # Number of qubits of subsystems\n",
    "G = 3 # Number of qubits of partial global system (C1)\n",
    "if model_type == 'open':\n",
    "    K = N-M+1 # Number of subsystems\n",
    "if model_type == 'closed':\n",
    "    K = N\n",
    "P = 4**M-1 # Number of Pauli basis for each subsystem\n",
    "\n",
    "PauliStrList = generate_PauliStrList(N)[1:]\n",
    "PauliStrList_part = generate_PauliStrList(M)[1:]\n",
    "PauliStrList_Gbody = generate_PauliStrList(G)[1:]\n",
    "\n",
    "H_local_list = ['XX','YY'] # Pauli string representation of the local Hamiltonian of subsystems\n",
    "H_global_list = Hamiltonian_global(H_local_list, N, M, K, model_type) # Pauli string representation of the Hamiltonian of the whole system\n",
    "H_local_matrix = np.array( Hamiltonian_matrix(H_local_list, model_type) ) # Matrix representation of the local Hamiltonian of subsystems\n",
    "H_global_matrix = np.array( Hamiltonian_matrix(H_global_list, model_type) ) # Matrix representation of the Hamiltonian of the whole system\n",
    "\n",
    "ground_state_energy, ground_state_dm = ground_state(H_global_matrix) \n",
    "q_state = DensityMatrix(ground_state_dm) \n",
    "lower_bound = lower_bound_with_SDP(H_local_matrix, N, M, G, K, P, PauliStrList_part, PauliStrList_Gbody, model_type)\n",
    "\n",
    "num_data_point = 4 # number of N_meas that we select to run\n",
    "N_meas_list = N_meas_list_func(100, 1000, num_data_point) # A list of number of measurement performed in all basis\n",
    "num_of_shot = 10 # Number of repeatation of the experiment\n",
    "\n",
    "higher_bound = 0.3 # Starting trial value for the bi-search method\n",
    "threshold = 0.001 # Accuracy of the minimum relaxation value \n",
    "\n",
    "\n",
    "\n",
    "\n",
    "path = f'meas_dataset/{model_type}/N={N}/N{N}_Meas{997}.npy'\n",
    "data = np.load(path, allow_pickle=True)\n",
    "measurement_dataset = data[1]\n",
    "measurement_dataset = {key: value for key, value in measurement_dataset.items() if value} # For reducing the complexity\n",
    "\n",
    "ground_state_energy"
   ]
  },
  {
   "cell_type": "code",
   "execution_count": 4,
   "metadata": {},
   "outputs": [
    {
     "data": {
      "text/plain": [
       "(-4.640046980078854, -3.7877990477671735)"
      ]
     },
     "execution_count": 4,
     "metadata": {},
     "output_type": "execute_result"
    }
   ],
   "source": [
    "from SDPforVQE import gs_energy_estimate\n",
    "\n",
    "gs_energy_estimate(measurement_dataset, 0.99, H_global_list, model_type)"
   ]
  },
  {
   "cell_type": "code",
   "execution_count": null,
   "metadata": {},
   "outputs": [],
   "source": [
    "ep = cp.Variable((K, P))\n",
    "if model_type=='open':\n",
    "    K_3body = N-G+1 # Number of 3-body subsystems\n",
    "if model_type=='closed':\n",
    "    K_3body = K # Number of 3-body subsystems\n",
    "ep_C1 = cp.Variable((K_3body, 4**G-1))\n",
    "\n",
    "\n",
    "\n",
    "dm_tilde, dm_hat = SDP_variables_C0(ep, measurement_dataset, N, M, K, P, PauliStrList_part, model_type)\n",
    "dm_tilde_C1 = SDP_variables_C1(ep_C1, measurement_dataset, N, G, K, PauliStrList_Gbody, model_type)\n",
    "\n",
    "\n",
    "SDP_solver_min(higher_bound, ep, ep_C1, dm_tilde, dm_tilde_C1, H_local_matrix, measurement_dataset, N, M, G, K, P, model_type)"
   ]
  },
  {
   "cell_type": "code",
   "execution_count": null,
   "metadata": {},
   "outputs": [],
   "source": [
    "ep = cp.Variable((K, P))\n",
    "if model_type=='open':\n",
    "    K_3body = N-G+1 # Number of 3-body subsystems\n",
    "if model_type=='closed':\n",
    "    K_3body = K # Number of 3-body subsystems\n",
    "ep_C1 = cp.Variable((K_3body, 4**G-1))\n",
    "\n",
    "\n",
    "\n",
    "dm_tilde, dm_hat = SDP_variables_C0(ep, measurement_dataset, N, M, K, P, PauliStrList_part, model_type)\n",
    "dm_tilde_C1 = SDP_variables_C1(ep_C1, measurement_dataset, N, G, K, PauliStrList_Gbody, model_type)\n",
    "\n",
    "\n",
    "biSection_search_min(higher_bound, threshold, ep, ep_C1, dm_tilde, dm_tilde_C1, H_local_matrix, \n",
    "                     measurement_dataset, N, M, G, K, P,\n",
    "                     model_type)"
   ]
  },
  {
   "cell_type": "code",
   "execution_count": null,
   "metadata": {},
   "outputs": [],
   "source": [
    "\n",
    "\n",
    "path = f'meas_dataset/{model_type}/N={N}/N{N}_Meas{997}.npy'\n",
    "data = np.load(path, allow_pickle=True)\n",
    "measurement_dataset = data[1]\n",
    "measurement_dataset = {key: value for key, value in measurement_dataset.items() if value} # For reducing the complexity"
   ]
  },
  {
   "cell_type": "code",
   "execution_count": null,
   "metadata": {},
   "outputs": [],
   "source": [
    "measurement_dataset"
   ]
  },
  {
   "cell_type": "code",
   "execution_count": null,
   "metadata": {},
   "outputs": [],
   "source": [
    "type(cp.Variable((K, P)))"
   ]
  },
  {
   "cell_type": "code",
   "execution_count": null,
   "metadata": {},
   "outputs": [],
   "source": [
    "ep = cp.Variable((3,3))\n",
    "b = 3+cp.multiply(ep[0, 0], np.array(pauliToMatrix(PauliStrList_part[1])))\n",
    "type(b)"
   ]
  },
  {
   "cell_type": "code",
   "execution_count": null,
   "metadata": {},
   "outputs": [],
   "source": [
    "constraints = [ep[0,0] >= -1, ep[0,0] <= 1]\n",
    "type(constraints)"
   ]
  }
 ],
 "metadata": {
  "kernelspec": {
   "display_name": "Python 3.7.7 ('QuantumC')",
   "language": "python",
   "name": "python3"
  },
  "language_info": {
   "codemirror_mode": {
    "name": "ipython",
    "version": 3
   },
   "file_extension": ".py",
   "mimetype": "text/x-python",
   "name": "python",
   "nbconvert_exporter": "python",
   "pygments_lexer": "ipython3",
   "version": "3.8.13"
  },
  "orig_nbformat": 4,
  "vscode": {
   "interpreter": {
    "hash": "eb1c09c88080a82141bde80abfc5c4dcde1e462f373af1bd572dc93ad8fc5299"
   }
  }
 },
 "nbformat": 4,
 "nbformat_minor": 2
}
