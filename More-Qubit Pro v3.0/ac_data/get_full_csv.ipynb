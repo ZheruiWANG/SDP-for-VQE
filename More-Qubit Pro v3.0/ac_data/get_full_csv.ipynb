{
 "cells": [
  {
   "cell_type": "code",
   "execution_count": 1,
   "metadata": {},
   "outputs": [],
   "source": [
    "import pandas as pd\n",
    "import glob\n",
    "\n",
    "csv_files = glob.glob(\"*.csv\")  # Specify the path to your CSV files\n",
    "df_list = [] # Create an empty list to store dataframes\n",
    "\n",
    "# Loop through all files and read them into dataframes\n",
    "for file in csv_files:\n",
    "    df = pd.read_csv(file)\n",
    "    df_list.append(df)\n",
    "\n",
    "combined_df = pd.concat(df_list, ignore_index=True) # Concatenate all dataframes into one\n",
    "combined_df.to_csv(\"combined_output.csv\", index=False) # Save the combined dataframe to a new CSV file (optional)\n"
   ]
  }
 ],
 "metadata": {
  "kernelspec": {
   "display_name": "Python 3.7.7 ('QuantumC')",
   "language": "python",
   "name": "python3"
  },
  "language_info": {
   "codemirror_mode": {
    "name": "ipython",
    "version": 3
   },
   "file_extension": ".py",
   "mimetype": "text/x-python",
   "name": "python",
   "nbconvert_exporter": "python",
   "pygments_lexer": "ipython3",
   "version": "3.8.13"
  },
  "orig_nbformat": 4,
  "vscode": {
   "interpreter": {
    "hash": "eb1c09c88080a82141bde80abfc5c4dcde1e462f373af1bd572dc93ad8fc5299"
   }
  }
 },
 "nbformat": 4,
 "nbformat_minor": 2
}
